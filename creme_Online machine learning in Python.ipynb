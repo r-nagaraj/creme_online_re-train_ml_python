{
 "cells": [
  {
   "cell_type": "markdown",
   "metadata": {
    "id": "1dV5K9GWYyyH"
   },
   "source": [
    "\n",
    "```\n",
    "# Online machine learning in Python\n",
    "\n",
    "# Link: https://pypi.org/project/creme/\n",
    "\n",
    "creme is a Python library for online machine learning. All the tools in the library can be updated with a single observation at a time, and can therefore be used to learn from streaming data.\n",
    "\n",
    "# The below code is taken from creme link for understand /testing purpose\n",
    "```\n",
    "\n"
   ]
  },
  {
   "cell_type": "code",
   "execution_count": 2,
   "metadata": {
    "colab": {
     "base_uri": "https://localhost:8080/"
    },
    "id": "iYgG9ujQXm3x",
    "outputId": "3db54273-c8b7-493e-ce4e-29823459f14d"
   },
   "outputs": [
    {
     "name": "stdout",
     "output_type": "stream",
     "text": [
      "Collecting creme\n",
      "\u001b[?25l  Downloading https://files.pythonhosted.org/packages/bc/88/e31aab6aca8d0a83ffe5f23d029ba9866c4e2a606c45f74bacd59192e31b/creme-0.6.1-cp37-cp37m-manylinux2010_x86_64.whl (1.1MB)\n",
      "\u001b[K     |████████████████████████████████| 1.1MB 5.5MB/s \n",
      "\u001b[?25hCollecting mmh3==2.5.1\n",
      "  Downloading https://files.pythonhosted.org/packages/fa/7e/3ddcab0a9fcea034212c02eb411433db9330e34d626360b97333368b4052/mmh3-2.5.1.tar.gz\n",
      "Requirement already satisfied: scipy>=1.4.1 in /usr/local/lib/python3.7/dist-packages (from creme) (1.4.1)\n",
      "Requirement already satisfied: pandas>=1.0.1 in /usr/local/lib/python3.7/dist-packages (from creme) (1.1.5)\n",
      "Requirement already satisfied: numpy>=1.18.1 in /usr/local/lib/python3.7/dist-packages (from creme) (1.19.5)\n",
      "Requirement already satisfied: python-dateutil>=2.7.3 in /usr/local/lib/python3.7/dist-packages (from pandas>=1.0.1->creme) (2.8.1)\n",
      "Requirement already satisfied: pytz>=2017.2 in /usr/local/lib/python3.7/dist-packages (from pandas>=1.0.1->creme) (2018.9)\n",
      "Requirement already satisfied: six>=1.5 in /usr/local/lib/python3.7/dist-packages (from python-dateutil>=2.7.3->pandas>=1.0.1->creme) (1.15.0)\n",
      "Building wheels for collected packages: mmh3\n",
      "  Building wheel for mmh3 (setup.py) ... \u001b[?25l\u001b[?25hdone\n",
      "  Created wheel for mmh3: filename=mmh3-2.5.1-cp37-cp37m-linux_x86_64.whl size=39652 sha256=40c50eff201f3e290bc7c2d75b6032b0b593ebf17e7a81f05d4680c09ad5b995\n",
      "  Stored in directory: /root/.cache/pip/wheels/38/b4/ea/6e4e321c625d3320c0c496bf4088371546d8fce5f1dd71b219\n",
      "Successfully built mmh3\n",
      "Installing collected packages: mmh3, creme\n",
      "Successfully installed creme-0.6.1 mmh3-2.5.1\n"
     ]
    }
   ],
   "source": [
    "!pip install creme"
   ]
  },
  {
   "cell_type": "code",
   "execution_count": 4,
   "metadata": {
    "id": "zpfTaXdlXZeT"
   },
   "outputs": [],
   "source": [
    "import math\n",
    "import creme\n",
    "\n",
    "from creme import compose\n",
    "from creme import datasets\n",
    "from creme import linear_model\n",
    "from creme import metrics\n",
    "from creme import preprocessing"
   ]
  },
  {
   "cell_type": "code",
   "execution_count": 5,
   "metadata": {
    "id": "CQ2yAc-EX1KL"
   },
   "outputs": [],
   "source": [
    "X_y = datasets.Phishing()\n",
    "\n",
    "model = compose.Pipeline(\n",
    "   preprocessing.StandardScaler(),\n",
    " linear_model.LogisticRegression()\n",
    ")\n",
    "metric = metrics.Accuracy()\n",
    "\n",
    "\n",
    "for x, y in X_y:\n",
    "    y_pred = model.predict_one(x)      # used to make prediction\n",
    "    metric = metric.update(y, y_pred)  # used to update metric\n",
    "    model = model.fit_one(x, y)        # used to make model learn\n"
   ]
  },
  {
   "cell_type": "code",
   "execution_count": 6,
   "metadata": {
    "colab": {
     "base_uri": "https://localhost:8080/"
    },
    "id": "G4LOzVknYNTv",
    "outputId": "3f5a4213-5fe0-4625-bccf-4bef17eddc95"
   },
   "outputs": [
    {
     "data": {
      "text/plain": [
       "Accuracy: 89.20%"
      ]
     },
     "execution_count": 6,
     "metadata": {
      "tags": []
     },
     "output_type": "execute_result"
    }
   ],
   "source": [
    "metric"
   ]
  }
 ],
 "metadata": {
  "colab": {
   "name": "Untitled0.ipynb",
   "provenance": []
  },
  "kernelspec": {
   "display_name": "Python 3",
   "language": "python",
   "name": "python3"
  },
  "language_info": {
   "codemirror_mode": {
    "name": "ipython",
    "version": 3
   },
   "file_extension": ".py",
   "mimetype": "text/x-python",
   "name": "python",
   "nbconvert_exporter": "python",
   "pygments_lexer": "ipython3",
   "version": "3.8.5"
  }
 },
 "nbformat": 4,
 "nbformat_minor": 1
}
